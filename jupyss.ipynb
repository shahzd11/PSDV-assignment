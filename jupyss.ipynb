{
 "cells": [
  {
   "cell_type": "code",
   "execution_count": null,
   "metadata": {},
   "outputs": [],
   "source": [
    "#1 List Operations and Basic Statistics\n",
    "n=20 #input\n",
    "ls=[i for i in range(1,n+1)]\n",
    "add,product=0,1\n",
    "for i in ls:\n",
    "    if i%2==0:\n",
    "        add=add+i\n",
    "    else:\n",
    "        product=product*i\n",
    "mean=sum(ls)/n #Mean\n",
    "ls.sort() #Median\n",
    "if n%2!=0:\n",
    "    median=ls[n//2]\n",
    "else:\n",
    "    median=(ls[n//2-1]+ls[n//2])/2\n",
    "sd=(sum((i-mean)**2 for i in ls)/n)**0.5 #Standard Deviation\n",
    "print(f'sum={add},product={product},mean={mean},median={median},standard deviation={sd}')"
   ]
  },
  {
   "cell_type": "code",
   "execution_count": null,
   "metadata": {},
   "outputs": [],
   "source": [
    "#2 Mutable vs. Immutable Data Types\n",
    "'''Mutable: Data types that can be changed after they are created. Example: list, dict, set.\n",
    "Immutable: Data types that cannot be changed after they are created. Example: int, str, tuple.'''"
   ]
  },
  {
   "cell_type": "code",
   "execution_count": null,
   "metadata": {},
   "outputs": [],
   "source": [
    "#3 Fibonacci Sequence\n",
    "n=int(input())\n",
    "f0=0\n",
    "f1=1\n",
    "for i in range(0,n):\n",
    "    f2=f0+f1\n",
    "    f0=f1\n",
    "    f1=f2\n",
    "    print(f2)"
   ]
  },
  {
   "cell_type": "code",
   "execution_count": null,
   "metadata": {},
   "outputs": [],
   "source": [
    "#4 List Manipulation\n",
    "\n",
    "ls=[3, 5, 7, 9, 11, 13]\n",
    "ls.insert(2,6)\n",
    "ls.remove(7)\n",
    "ls.reverse()\n",
    "n=len(ls)\n",
    "ls.sort() #Median\n",
    "if n%2!=0:\n",
    "    median=ls[n//2]\n",
    "else:\n",
    "    median=(ls[n//2-1]+ls[n//2])/2\n",
    "print(f'mean={sum(ls)/n}, median={median}')"
   ]
  },
  {
   "cell_type": "code",
   "execution_count": null,
   "metadata": {},
   "outputs": [],
   "source": [
    "#5 User Input and Basic Statistics\n",
    "ls=list(map(int,input().split(',')))\n",
    "ls.sort()\n",
    "print(ls)\n",
    "print(f'Mean={sum(ls)/len(ls)}, smallest no. {ls[0]}, largest no. {ls[len(ls)-1]}')\n"
   ]
  },
  {
   "cell_type": "code",
   "execution_count": null,
   "metadata": {},
   "outputs": [],
   "source": []
  },
  {
   "cell_type": "code",
   "execution_count": null,
   "metadata": {},
   "outputs": [],
   "source": [
    "#6 Palindrome Check\n",
    "n=input()\n",
    "n=n.replace(' ','').lower()\n",
    "if n==n[::-1]:\n",
    "    print('Palindrome Check')\n",
    "else:\n",
    "    print('Not a Palindrome')"
   ]
  },
  {
   "cell_type": "code",
   "execution_count": null,
   "metadata": {},
   "outputs": [],
   "source": [
    "#7 Dictionary Operations\n",
    "marks={'student1':82, 'student2':90}\n",
    "sum_marks=0\n",
    "for marks_values in marks.values():\n",
    "    sum_marks=sum_marks+marks_values\n",
    "print('Average Marks =',sum_marks/len(marks))\n",
    "\n",
    "marks={'student1':82, 'student2':90}\n",
    "print('Average Marks =',sum(marks.values())/len(marks))\n",
    "\n"
   ]
  },
  {
   "cell_type": "code",
   "execution_count": null,
   "metadata": {},
   "outputs": [],
   "source": [
    "#8 Tuple List Creation\n",
    "ls=[]\n",
    "for i in range(1,11):\n",
    "    ls.append((i,i**2))\n",
    "print(ls)"
   ]
  },
  {
   "cell_type": "code",
   "execution_count": 13,
   "metadata": {},
   "outputs": [
    {
     "name": "stdout",
     "output_type": "stream",
     "text": [
      "Output: {'a': 10, 'b': 25, 'c': 15}\n",
      "97 122\n"
     ]
    }
   ],
   "source": [
    "#9 Merging Dictionaries\n",
    "dict1 = {'a': 10, 'b': 20}\n",
    "dict2 = {'b': 5, 'c': 15}\n",
    "for key1,value1 in dict1.items():\n",
    "    for key2,value2 in dict2.items():\n",
    "        if key1==key2:\n",
    "            dict2[key2]=value1+value2\n",
    "dict1.update(dict2)\n",
    "print('Output:',dict1)"
   ]
  },
  {
   "cell_type": "code",
   "execution_count": null,
   "metadata": {},
   "outputs": [],
   "source": [
    "#10 Character Frequency\n",
    "Converts all characters to lowercase.\n",
    "Counts the frequency of each character.\n",
    "Returns a dictionary with characters as keys and their counts as values.\n",
    "s=input()\n",
    "s.lower()\n"
   ]
  },
  {
   "cell_type": "code",
   "execution_count": null,
   "metadata": {},
   "outputs": [],
   "source": [
    "#23 Even or Odd:\n",
    "Write a Python program that takes an integer input from the user and prints whether the number is even or odd.\n",
    "Grade Calculator:\n",
    "Write a Python program that takes a numerical grade (0-100) as input and prints the corresponding letter grade (A, B, C, D, F).\n",
    "Leap Year Checker:\n",
    "Write a Python program that takes a year as input and checks if it is a leap year."
   ]
  },
  {
   "cell_type": "code",
   "execution_count": null,
   "metadata": {},
   "outputs": [],
   "source": [
    "#24 Grade Calculator\n",
    "def grade_calc(n):\n",
    "    marks={range(90,101): 'A' , range(80,90): 'B', range(70, 80): 'C', range(60, 70): 'D'}\n",
    "    for rangeofgrades,grade in marks.items():\n",
    "        if n in marks.items():\n",
    "            return grade\n",
    "    return 'F'\n",
    "print(grade_calc(85))\n",
    "\n"
   ]
  },
  {
   "cell_type": "code",
   "execution_count": null,
   "metadata": {},
   "outputs": [],
   "source": [
    "#25 Year Checker\n",
    "print('Enter the year:')\n",
    "if n%4==0 and n%10!=0:\n",
    "    print('Leap Year')\n",
    "else:\n",
    "    print('Not a Leap Year')"
   ]
  }
 ],
 "metadata": {
  "kernelspec": {
   "display_name": "Python 3",
   "language": "python",
   "name": "python3"
  },
  "language_info": {
   "codemirror_mode": {
    "name": "ipython",
    "version": 3
   },
   "file_extension": ".py",
   "mimetype": "text/x-python",
   "name": "python",
   "nbconvert_exporter": "python",
   "pygments_lexer": "ipython3",
   "version": "3.12.5"
  }
 },
 "nbformat": 4,
 "nbformat_minor": 2
}
