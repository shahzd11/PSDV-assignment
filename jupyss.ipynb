{
 "cells": [
  {
   "cell_type": "code",
   "execution_count": null,
   "metadata": {},
   "outputs": [],
   "source": [
    "#1 List Operations and Basic Statistics\n",
    "n=20 #input\n",
    "ls=[i for i in range(1,n+1)]\n",
    "add,product=0,1\n",
    "for i in ls:\n",
    "    if i%2==0:\n",
    "        add=add+i\n",
    "    else:\n",
    "        product=product*i\n",
    "mean=sum(ls)/n #Mean\n",
    "ls.sort() #Median\n",
    "if n%2!=0:\n",
    "    median=ls[n//2]\n",
    "else:\n",
    "    median=(ls[n//2-1]+ls[n//2])/2\n",
    "sd=(sum((i-mean)**2 for i in ls)/n)**0.5 #Standard Deviation\n",
    "print(f'sum={add},product={product},mean={mean},median={median},standard deviation={sd}')"
   ]
  },
  {
   "cell_type": "code",
   "execution_count": null,
   "metadata": {},
   "outputs": [],
   "source": [
    "#2 Mutable vs. Immutable Data Types\n",
    "'''Mutable: Data types that can be changed after they are created. Example: list, dict, set.\n",
    "Immutable: Data types that cannot be changed after they are created. Example: int, str, tuple.'''"
   ]
  },
  {
   "cell_type": "code",
   "execution_count": null,
   "metadata": {},
   "outputs": [],
   "source": [
    "#3 Fibonacci Sequence\n",
    "n=int(input())\n",
    "f0=0\n",
    "f1=1\n",
    "for i in range(0,n):\n",
    "    f2=f0+f1\n",
    "    f0=f1\n",
    "    f1=f2\n",
    "    print(f2)"
   ]
  },
  {
   "cell_type": "code",
   "execution_count": null,
   "metadata": {},
   "outputs": [],
   "source": [
    "#4 List Manipulation\n",
    "\n",
    "ls=[3, 5, 7, 9, 11, 13]\n",
    "ls.insert(2,6)\n",
    "ls.remove(7)\n",
    "ls.reverse()\n",
    "n=len(ls)\n",
    "ls.sort() #Median\n",
    "if n%2!=0:\n",
    "    median=ls[n//2]\n",
    "else:\n",
    "    median=(ls[n//2-1]+ls[n//2])/2\n",
    "print(f'mean={sum(ls)/n}, median={median}')"
   ]
  },
  {
   "cell_type": "code",
   "execution_count": null,
   "metadata": {},
   "outputs": [],
   "source": [
    "#5 User Input and Basic Statistics\n",
    "ls=list(map(int,input().split(',')))\n",
    "ls.sort()\n",
    "print(ls)\n",
    "print(f'Mean={sum(ls)/len(ls)}, smallest no. {ls[0]}, largest no. {ls[len(ls)-1]}')\n"
   ]
  },
  {
   "cell_type": "code",
   "execution_count": null,
   "metadata": {},
   "outputs": [],
   "source": [
    "#6 Palindrome Check\n",
    "n=input()\n",
    "n=n.replace(' ','').lower()\n",
    "if n==n[::-1]:\n",
    "    print('Palindrome Check')\n",
    "else:\n",
    "    print('Not a Palindrome')"
   ]
  },
  {
   "cell_type": "code",
   "execution_count": null,
   "metadata": {},
   "outputs": [],
   "source": [
    "#7 Dictionary Operations\n",
    "marks={'student1':82, 'student2':90}\n",
    "sum_marks=0\n",
    "for marks_values in marks.values():\n",
    "    sum_marks=sum_marks+marks_values\n",
    "print('Average Marks =',sum_marks/len(marks))\n",
    "\n",
    "marks={'student1':82, 'student2':90}\n",
    "print('Average Marks =',sum(marks.values())/len(marks))\n",
    "\n"
   ]
  },
  {
   "cell_type": "code",
   "execution_count": null,
   "metadata": {},
   "outputs": [],
   "source": [
    "#8 Tuple List Creation\n",
    "ls=[]\n",
    "for i in range(1,11):\n",
    "    ls.append((i,i**2))\n",
    "print(ls)"
   ]
  },
  {
   "cell_type": "code",
   "execution_count": null,
   "metadata": {},
   "outputs": [],
   "source": [
    "#9 Merging Dictionaries\n",
    "dict1 = {'a': 10, 'b': 20}\n",
    "dict2 = {'b': 5, 'c': 15}\n",
    "for key1,value1 in dict1.items():\n",
    "    for key2,value2 in dict2.items():\n",
    "        if key1==key2:\n",
    "            dict2[key2]=value1+value2\n",
    "dict1.update(dict2)\n",
    "print('Output:',dict1)"
   ]
  },
  {
   "cell_type": "code",
   "execution_count": null,
   "metadata": {},
   "outputs": [],
   "source": [
    "#10 Character Frequency\n",
    "s=input()\n",
    "s=s.lower()# Converts all characters to lowercase.\n",
    "char_dict={}\n",
    "for i in s: # Counts the frequency of each character.\n",
    "    if i in char_dict.keys():\n",
    "        char_dict[i]+=1\n",
    "    else:\n",
    "        char_dict[i]=1\n",
    "print(char_dict) # Returns a dictionary with characters as keys and their counts as values."
   ]
  },
  {
   "cell_type": "code",
   "execution_count": null,
   "metadata": {},
   "outputs": [],
   "source": [
    "#11 Remove Duplicates\n",
    "a=list(map(int,input().split(',')))\n",
    "unique_ls=[]\n",
    "for i in a:\n",
    "    if i not in unique_ls:\n",
    "        unique_ls.append(i)\n",
    "print(unique_ls) # Prints a list without duplicate elements while maintaining the order\n",
    "# Calculate the mean and median of the unique elements.\n",
    "mean=sum(unique_ls)/len(unique_ls) # Mean\n",
    "n=len(unique_ls)\n",
    "unique_ls.sort() # Median\n",
    "if n%2!=0:\n",
    "    median=unique_ls[n//2]\n",
    "else:\n",
    "    median=(unique_ls[n//2-1]+unique_ls[n//2])/2\n",
    "print(f'Mean={mean} Median={median}')"
   ]
  },
  {
   "cell_type": "code",
   "execution_count": null,
   "metadata": {},
   "outputs": [],
   "source": [
    "#12 String Operations\n",
    "# Visualize the distribution of string lengths using a histogram.\n",
    "ls=input().split(';')\n",
    "temp,c=0,0\n",
    "for i in ls:\n",
    "    a=len(i) # Find the longest string.\n",
    "    if a>temp:\n",
    "        temp=a\n",
    "        b=i\n",
    "    if i[0] in ['a','e','i','o','u','A','E','I','O','U']: # Count how many strings start with a vowel.\n",
    "        c+=1\n",
    "print(b)\n",
    "print(c)\n"
   ]
  },
  {
   "cell_type": "code",
   "execution_count": null,
   "metadata": {},
   "outputs": [],
   "source": [
    "#13 Sorting Dictionaries:\n",
    "# data = [{'name': 'Alice', 'age': 25}, {'name': 'Bob', 'age': 22}]\n",
    "def sort_key(n):\n",
    "    return n[key_name]\n",
    "ls=[{'name': 'Alice', 'age': 25}, {'name': 'Bob', 'age': 22}]\n",
    "key_name='age' # Sort by age → [{'name': 'Bob', 'age': 22}, {'name': 'Alice', 'age': 25}]\n",
    "ls.sort(key=sort_key)\n",
    "print(ls)\n"
   ]
  },
  {
   "cell_type": "code",
   "execution_count": null,
   "metadata": {},
   "outputs": [],
   "source": [
    "#14 Word Filtering and Sorting\n",
    "# Visualize the word lengths using a bar chart. \n",
    "ls=input().split(' ') # Split a string into a list of words.\n",
    "a=[]\n",
    "for i in ls: # Append a new list with words that are greater than 4 characters.\n",
    "    if len(i)>=4:\n",
    "        a.append(i)\n",
    "a.sort(key=str.lower) # Sort the remaining words alphabetically.\n",
    "print(a)\n"
   ]
  },
  {
   "cell_type": "code",
   "execution_count": null,
   "metadata": {},
   "outputs": [],
   "source": [
    "#15 Anagram Finder:\n",
    "# Input: word = \"listen\", words = [\"enlist\", \"google\", \"inlets\", \"banana\"]\n",
    "# Output: [\"enlist\", \"inlets\"]\n",
    "n=input()\n",
    "ls=input().split('\", \"')\n",
    "print(ls)\n",
    "anagram=[]\n",
    "b=0\n",
    "for i in ls:\n",
    "    for j in i:\n",
    "        if j not in n:\n",
    "            b=1\n",
    "    if b==0:\n",
    "        anagram.append(i)\n",
    "    b=0\n",
    "print(anagram)\n"
   ]
  },
  {
   "cell_type": "code",
   "execution_count": null,
   "metadata": {},
   "outputs": [],
   "source": [
    "#16 Set Operations:\n",
    "# Given two lists, write Python code to find their intersection, union, and symmetric difference.\n",
    "# Visualize the results using Venn diagrams.\n",
    "a=['Apple','Orange','Grapes',10]\n",
    "b=['Apple',1,10]\n",
    "union=a\n",
    "intersection=[]\n",
    "for i in b:\n",
    "    if i in a: # Intersection\n",
    "        intersection.append(i)\n",
    "    if i not in a: # Union\n",
    "        union.append(i)\n",
    "print(f'Intersection={intersection}, Union={union}')\n",
    "for i in union: # Symmetric Difference\n",
    "    if i in intersection:\n",
    "        union.remove(i)\n",
    "print(f'Symmetric Difference={union}')\n",
    "    \n",
    "        "
   ]
  },
  {
   "cell_type": "code",
   "execution_count": null,
   "metadata": {},
   "outputs": [],
   "source": [
    "#17 File Operations:\n",
    "# Write Python code to:\n",
    "# Create a text file.\n",
    "# Write a list of numbers to the file (one per line).\n",
    "# Read the file and compute their sum."
   ]
  },
  {
   "cell_type": "code",
   "execution_count": null,
   "metadata": {},
   "outputs": [],
   "source": [
    "#18 Word Count and Frequency:\n",
    "# Write a program to:\n",
    "# Read a file and count the number of words in it.\n",
    "# Find the most frequent word.\n",
    "# Visualize the word frequencies using a bar chart."
   ]
  },
  {
   "cell_type": "code",
   "execution_count": null,
   "metadata": {},
   "outputs": [],
   "source": [
    "#21 Basic Statistics:\n",
    "# Mean, median, mode, and standard deviation of a list of numbers.\n",
    "# Visualize the data using a box plot."
   ]
  },
  {
   "cell_type": "code",
   "execution_count": null,
   "metadata": {},
   "outputs": [],
   "source": [
    "#22 Normalization:\n",
    "# Write a Python function to normalize a list of numbers to a range of 0 to 1.\n",
    "# Visualize the normalized data using a line plot."
   ]
  },
  {
   "cell_type": "code",
   "execution_count": null,
   "metadata": {},
   "outputs": [],
   "source": [
    "#23 Even or Odd:\n",
    "n=int(input())\n",
    "if n%2==0:\n",
    "    print('Even')\n",
    "else:\n",
    "    print('Odd')"
   ]
  },
  {
   "cell_type": "code",
   "execution_count": 81,
   "metadata": {},
   "outputs": [
    {
     "name": "stdout",
     "output_type": "stream",
     "text": [
      "A\n"
     ]
    }
   ],
   "source": [
    "#24 Grade Calculator\n",
    "def grade_calc(n): # Integral Mark Distribution\n",
    "    marks={range(90,101): 'A' , range(80,90): 'B', range(70,80): 'C', range(60,70): 'D'}\n",
    "    for rangeofgrades,grade in marks.items():\n",
    "        if n in rangeofgrades:\n",
    "            return grade\n",
    "    return 'F'\n",
    "print(grade_calc(85))\n",
    "\n",
    "def grade_calc(n): # Non-Integral Mark Distribution\n",
    "    marks={(90,100): 'A' , (80,90): 'B', (70,80): 'C', (60,70): 'D'}\n",
    "    for rangeofgrades,grade in marks.items():\n",
    "         if n > rangeofgrades[0] and n <= rangeofgrades[1]:\n",
    "            return grade\n",
    "    return 'F'\n",
    "print(grade_calc(95.456))\n",
    "\n"
   ]
  },
  {
   "cell_type": "code",
   "execution_count": null,
   "metadata": {},
   "outputs": [],
   "source": [
    "#25 Year Checker\n",
    "print('Enter the year:')\n",
    "if n%4==0 and n%10!=0:\n",
    "    print('Leap Year')\n",
    "else:\n",
    "    print('Not a Leap Year')"
   ]
  }
 ],
 "metadata": {
  "kernelspec": {
   "display_name": "Python 3",
   "language": "python",
   "name": "python3"
  },
  "language_info": {
   "codemirror_mode": {
    "name": "ipython",
    "version": 3
   },
   "file_extension": ".py",
   "mimetype": "text/x-python",
   "name": "python",
   "nbconvert_exporter": "python",
   "pygments_lexer": "ipython3",
   "version": "3.12.5"
  }
 },
 "nbformat": 4,
 "nbformat_minor": 2
}
